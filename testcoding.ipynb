{
 "cells": [
  {
   "cell_type": "code",
   "execution_count": 1,
   "id": "9728423e-295e-4ef3-a57e-e686dbf6794e",
   "metadata": {},
   "outputs": [
    {
     "name": "stdout",
     "output_type": "stream",
     "text": [
      "halo dunia\n"
     ]
    }
   ],
   "source": [
    "print(\"halo dunia\")"
   ]
  },
  {
   "cell_type": "code",
   "execution_count": 4,
   "id": "1da0519b-3140-426a-ba0c-4fe1cff24b94",
   "metadata": {},
   "outputs": [
    {
     "name": "stdout",
     "output_type": "stream",
     "text": [
      "3\n"
     ]
    }
   ],
   "source": [
    "height = 3\n",
    "print(height)"
   ]
  },
  {
   "cell_type": "code",
   "execution_count": 5,
   "id": "e3438116-12b0-4653-95f9-c90f1f63fad7",
   "metadata": {},
   "outputs": [
    {
     "name": "stdout",
     "output_type": "stream",
     "text": [
      "17.5\n"
     ]
    }
   ],
   "source": [
    "# rumus luas segitiga\n",
    "height = 5\n",
    "base = 7\n",
    "area = height * base * 0.5\n",
    "print(area)"
   ]
  },
  {
   "cell_type": "code",
   "execution_count": null,
   "id": "a2573e34-57f0-4fc8-9827-9c8d12ad13d0",
   "metadata": {},
   "outputs": [],
   "source": []
  }
 ],
 "metadata": {
  "kernelspec": {
   "display_name": "Python 3 (ipykernel)",
   "language": "python",
   "name": "python3"
  },
  "language_info": {
   "codemirror_mode": {
    "name": "ipython",
    "version": 3
   },
   "file_extension": ".py",
   "mimetype": "text/x-python",
   "name": "python",
   "nbconvert_exporter": "python",
   "pygments_lexer": "ipython3",
   "version": "3.12.9"
  }
 },
 "nbformat": 4,
 "nbformat_minor": 5
}
